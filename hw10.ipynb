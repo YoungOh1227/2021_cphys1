{
 "cells": [
  {
   "cell_type": "code",
   "execution_count": 28,
   "metadata": {},
   "outputs": [],
   "source": [
    "import numpy as np\n",
    "import sympy\n",
    "from sympy import Symbol"
   ]
  },
  {
   "cell_type": "markdown",
   "metadata": {},
   "source": [
    "# Gaussian Integral\n",
    "\n",
    "sympy를 이용하여 다음 적분들을 계산하세요.\n",
    "\n",
    "\n",
    "1. $ \\int_{-\\infty}^{\\infty} e^{-ax^2} dx $\n",
    "\n",
    "2. $ \\int_{-\\infty}^{\\infty} x e^{-ax^2} dx $\n",
    "\n",
    "3. $ \\int_{-\\infty}^{\\infty} x^2 e^{-ax^2} dx $\n",
    "\n",
    "4. $ \\int_{-\\infty}^{\\infty} x^4 e^{-ax^2} dx $"
   ]
  },
  {
   "cell_type": "code",
   "execution_count": 7,
   "metadata": {},
   "outputs": [
    {
     "data": {
      "text/latex": [
       "$\\displaystyle \\begin{cases} \\frac{\\sqrt{\\pi} \\operatorname{erf}{\\left(\\sqrt{a} x \\right)}}{2 \\sqrt{a}} & \\text{for}\\: a \\neq 0 \\\\x & \\text{otherwise} \\end{cases}$"
      ],
      "text/plain": [
       "Piecewise((sqrt(pi)*erf(sqrt(a)*x)/(2*sqrt(a)), Ne(a, 0)), (x, True))"
      ]
     },
     "execution_count": 7,
     "metadata": {},
     "output_type": "execute_result"
    }
   ],
   "source": [
    "# 1번\n",
    "\n",
    "a,x = sympy.symbols(\"a,x\")\n",
    "sympy.integrate(sympy.exp(-a*x**2),x)"
   ]
  },
  {
   "cell_type": "code",
   "execution_count": 9,
   "metadata": {},
   "outputs": [
    {
     "data": {
      "text/latex": [
       "$\\displaystyle \\begin{cases} - \\frac{e^{- a x^{2}}}{2 a} & \\text{for}\\: 2 a \\neq 0 \\\\\\frac{x^{2}}{2} & \\text{otherwise} \\end{cases}$"
      ],
      "text/plain": [
       "Piecewise((-exp(-a*x**2)/(2*a), Ne(2*a, 0)), (x**2/2, True))"
      ]
     },
     "execution_count": 9,
     "metadata": {},
     "output_type": "execute_result"
    }
   ],
   "source": [
    "# 2번\n",
    "\n",
    "sympy.integrate(x*sympy.exp(-a*x**2),x)"
   ]
  },
  {
   "cell_type": "code",
   "execution_count": 11,
   "metadata": {},
   "outputs": [
    {
     "data": {
      "text/latex": [
       "$\\displaystyle \\begin{cases} - \\frac{x e^{- a x^{2}}}{2 a} + \\frac{\\sqrt{\\pi} \\operatorname{erf}{\\left(\\sqrt{a} x \\right)}}{4 a^{\\frac{3}{2}}} & \\text{for}\\: a \\neq 0 \\\\\\frac{x^{3}}{3} & \\text{otherwise} \\end{cases}$"
      ],
      "text/plain": [
       "Piecewise((-x*exp(-a*x**2)/(2*a) + sqrt(pi)*erf(sqrt(a)*x)/(4*a**(3/2)), Ne(a, 0)), (x**3/3, True))"
      ]
     },
     "execution_count": 11,
     "metadata": {},
     "output_type": "execute_result"
    }
   ],
   "source": [
    "# 3번 \n",
    "\n",
    "sympy.integrate(x**2*sympy.exp(-a*x**2),x)"
   ]
  },
  {
   "cell_type": "code",
   "execution_count": 13,
   "metadata": {},
   "outputs": [
    {
     "data": {
      "text/latex": [
       "$\\displaystyle \\begin{cases} - \\frac{x^{3} e^{- a x^{2}}}{2 a} - \\frac{3 x e^{- a x^{2}}}{4 a^{2}} + \\frac{3 \\sqrt{\\pi} \\operatorname{erf}{\\left(\\sqrt{a} x \\right)}}{8 a^{\\frac{5}{2}}} & \\text{for}\\: a \\neq 0 \\\\\\frac{x^{5}}{5} & \\text{otherwise} \\end{cases}$"
      ],
      "text/plain": [
       "Piecewise((-x**3*exp(-a*x**2)/(2*a) - 3*x*exp(-a*x**2)/(4*a**2) + 3*sqrt(pi)*erf(sqrt(a)*x)/(8*a**(5/2)), Ne(a, 0)), (x**5/5, True))"
      ]
     },
     "execution_count": 13,
     "metadata": {},
     "output_type": "execute_result"
    }
   ],
   "source": [
    "# 4번\n",
    "\n",
    "sympy.integrate(x**4*sympy.exp(-a*x**2),x)"
   ]
  },
  {
   "cell_type": "markdown",
   "metadata": {},
   "source": [
    "# 미분방정식\n",
    "\n",
    "sympy를 이용해서 다음의 간단한 미분방정식을 풀어보세요.\n",
    "$$ x'(t)=- a x.$$\n",
    "\n",
    "초기조건은 다음과 같다. $x(0)=1$."
   ]
  },
  {
   "cell_type": "code",
   "execution_count": 56,
   "metadata": {},
   "outputs": [
    {
     "data": {
      "text/latex": [
       "$\\displaystyle x{\\left(t \\right)}$"
      ],
      "text/plain": [
       "x(t)"
      ]
     },
     "execution_count": 56,
     "metadata": {},
     "output_type": "execute_result"
    }
   ],
   "source": [
    "t = sympy.symbols('t')\n",
    "x = sympy.Function('x') \n",
    "x(t)"
   ]
  },
  {
   "cell_type": "code",
   "execution_count": 57,
   "metadata": {},
   "outputs": [
    {
     "data": {
      "text/latex": [
       "$\\displaystyle \\frac{d}{d t} x{\\left(t \\right)}$"
      ],
      "text/plain": [
       "Derivative(x(t), t)"
      ]
     },
     "execution_count": 57,
     "metadata": {},
     "output_type": "execute_result"
    }
   ],
   "source": [
    "x(t).diff(t)"
   ]
  },
  {
   "cell_type": "code",
   "execution_count": 58,
   "metadata": {},
   "outputs": [],
   "source": [
    "eq = sympy.Eq(x(t).diff(t),-a*x(t))"
   ]
  },
  {
   "cell_type": "code",
   "execution_count": 60,
   "metadata": {},
   "outputs": [
    {
     "data": {
      "text/latex": [
       "$\\displaystyle x{\\left(t \\right)} = C_{1} e^{- a t}$"
      ],
      "text/plain": [
       "Eq(x(t), C1*exp(-a*t))"
      ]
     },
     "execution_count": 60,
     "metadata": {},
     "output_type": "execute_result"
    }
   ],
   "source": [
    "sympy.dsolve(sympy.Eq(x(t).diff(t),-a*x(t)),x(t))"
   ]
  },
  {
   "cell_type": "code",
   "execution_count": 65,
   "metadata": {},
   "outputs": [
    {
     "data": {
      "text/latex": [
       "$\\displaystyle x{\\left(t \\right)} = e^{- a t}$"
      ],
      "text/plain": [
       "Eq(x(t), exp(-a*t))"
      ]
     },
     "execution_count": 65,
     "metadata": {},
     "output_type": "execute_result"
    }
   ],
   "source": [
    "psol = sympy.dsolve( eq, ics= {x(0):1} )\n",
    "psol"
   ]
  }
 ],
 "metadata": {
  "kernelspec": {
   "display_name": "Python 3",
   "language": "python",
   "name": "python3"
  },
  "language_info": {
   "codemirror_mode": {
    "name": "ipython",
    "version": 3
   },
   "file_extension": ".py",
   "mimetype": "text/x-python",
   "name": "python",
   "nbconvert_exporter": "python",
   "pygments_lexer": "ipython3",
   "version": "3.8.5"
  }
 },
 "nbformat": 4,
 "nbformat_minor": 4
}
