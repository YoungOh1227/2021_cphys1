{
 "cells": [
  {
   "cell_type": "code",
   "execution_count": 3,
   "metadata": {},
   "outputs": [],
   "source": [
    "import matplotlib.pyplot as plt\n",
    "import numpy as np"
   ]
  },
  {
   "cell_type": "markdown",
   "metadata": {},
   "source": [
    "# 1. Vibration in a one-dimensional system"
   ]
  },
  {
   "cell_type": "markdown",
   "metadata": {},
   "source": [
    "질량이 $m$인 $N$개의 동일한 물체가 일렬로 동일한 용수철에 매달려 있다. $i$번째 물체의 운동방정식은 다음처럼 주어진다.\n",
    "$$m \\frac{d^2 x_i}{dt^2} = k(x_{i+1}-x_{i}) - k(x_i-x_{i-1})$$\n",
    "한쪽 끝에서 연결된 용수철에 주기적인 힘($F$)을 가하고 있다. 그러면 양 끝단에 물체에 운동방정식은 다음과 같다.\n",
    "$$m \\frac{d^2 x_1}{dt^2} = k(x_{2}-x_{1}) + F \\\\\n",
    "m \\frac{d^2 x_N}{dt^2} = -k(x_{N}-x_{N-1})$$\n",
    "만약 주기적인 힘이 $F=C e^{i wt}$로 주어지면 $x$는 다음의 $x_i(t)=a_i e^{iwt}$해를 가진다. 정리하면 다음과 같은 방정식을 얻을 수 있다.\n",
    "$$(d -k)a_1 -k a_2 = C, \\\\\n",
    "d a_i - k a_{i-1}- k a_{i+1} = 0, \\\\\n",
    "(d - k)a_N - k x_{N-1} =0$$\n",
    "여기에서 $d=2k-mw^2$이다.\n",
    "\n",
    "위의 운동방정식을 행렬로 표현하면 다음과 같다.\n",
    "$$Ma=b $$$$\n",
    "M=\n",
    "\\begin{pmatrix}\n",
    "d-k &amp; -k &amp; 0 &amp; 0 &amp; 0 &amp; \\cdots \\\\\n",
    "-k &amp; d &amp; -k &amp; 0 &amp; 0 &amp; \\cdots \\\\\n",
    "0 &amp; -k &amp; d &amp; -k &amp; 0 &amp; \\cdots \\\\\n",
    "\\cdots &amp;\\cdots &amp;\\cdots &amp;\\cdots &amp;\\cdots &amp; \\cdots  \\\\\n",
    "0 &amp; 0 &amp; 0&amp; 0&amp; -k &amp; d-k \n",
    "\\end{pmatrix}, \\quad\n",
    "a=\n",
    "\\begin{pmatrix}\n",
    "a_1 \\\\ \n",
    "a_2 \\\\ \n",
    "a_3 \\\\ \n",
    "\\cdots \\\\ \n",
    "a_N  \n",
    "\\end{pmatrix}, \\quad\n",
    "b=\n",
    "\\begin{pmatrix}\n",
    "C \\\\ \n",
    "0 \\\\ \n",
    "0 \\\\ \n",
    "\\cdots \\\\ \n",
    "0 \n",
    "\\end{pmatrix}\n",
    "$$\n",
    "\n",
    "$m=1$, $k=1$, $C=1$, $N=40$으로 고정하세요.\n",
    "\n",
    "$w$ (즉, d)를 바꾸어가면서 $a_i$를 구하세요.\n",
    "\n",
    "이를 그래프로 표현하고 의미를 설명하세요.x축이 i (1~N), y축이 $a_i$\n",
    "\n",
    "40X40 행렬을 직접 입력하는 것을 금지하지는 않지만 그렇게 하지 않기를 바랍니다.\n",
    "np.zeros(n) 함수는 크기가 n이며 모든 성분이 0인 배열을 만드는 명령어입니다."
   ]
  },
  {
   "cell_type": "code",
   "execution_count": 6,
   "metadata": {},
   "outputs": [
    {
     "data": {
      "text/plain": [
       "array([[ 1., -1.,  0., ...,  0.,  0.,  0.],\n",
       "       [-1.,  1., -1., ...,  0.,  0.,  0.],\n",
       "       [ 0., -1.,  1., ...,  0.,  0.,  0.],\n",
       "       ...,\n",
       "       [ 0.,  0.,  0., ...,  1., -1.,  0.],\n",
       "       [ 0.,  0.,  0., ..., -1.,  1., -1.],\n",
       "       [ 0.,  0.,  0., ...,  0., -1.,  1.]])"
      ]
     },
     "execution_count": 6,
     "metadata": {},
     "output_type": "execute_result"
    }
   ],
   "source": [
    "# 𝑚=1 , 𝑘=1, 𝐶=1, 𝑁=40 일 때, d = 2-w**2 이다.\n",
    "# w=1 인 경우, d = 1\n",
    "M0=np.eye(40)\n",
    "M1=1*M0\n",
    "\n",
    "for n in range(0, 40, 1):\n",
    "    M1[n,n-1]=-1\n",
    "    M1[n-1,n]=-1\n",
    "\n",
    "M1[0,0]=1\n",
    "M1[39,39]=1\n",
    "M1[39,0]=0\n",
    "M1[0,39]=0\n",
    "M1"
   ]
  },
  {
   "cell_type": "code",
   "execution_count": 7,
   "metadata": {},
   "outputs": [
    {
     "data": {
      "text/plain": [
       "array([[-3., -1., -0., ..., -0., -0.,  0.],\n",
       "       [-1., -2., -1., ..., -0., -0., -0.],\n",
       "       [-0., -1., -2., ..., -0., -0., -0.],\n",
       "       ...,\n",
       "       [-0., -0., -0., ..., -2., -1., -0.],\n",
       "       [-0., -0., -0., ..., -1., -2., -1.],\n",
       "       [ 0., -0., -0., ..., -0., -1., -3.]])"
      ]
     },
     "execution_count": 7,
     "metadata": {},
     "output_type": "execute_result"
    }
   ],
   "source": [
    "# w=2 인 경우, d = -2\n",
    "M0=np.eye(40)\n",
    "M2=-2*M0\n",
    "\n",
    "for n in range(0, 40, 1):\n",
    "    M2[n,n-1]=-1\n",
    "    M2[n-1,n]=-1\n",
    "\n",
    "M2[0,0]=-3\n",
    "M2[39,39]=-3\n",
    "M2[39,0]=0\n",
    "M2[0,39]=0\n",
    "M2"
   ]
  },
  {
   "cell_type": "code",
   "execution_count": 8,
   "metadata": {},
   "outputs": [
    {
     "data": {
      "text/plain": [
       "array([[-8., -1., -0., ..., -0., -0.,  0.],\n",
       "       [-1., -7., -1., ..., -0., -0., -0.],\n",
       "       [-0., -1., -7., ..., -0., -0., -0.],\n",
       "       ...,\n",
       "       [-0., -0., -0., ..., -7., -1., -0.],\n",
       "       [-0., -0., -0., ..., -1., -7., -1.],\n",
       "       [ 0., -0., -0., ..., -0., -1., -8.]])"
      ]
     },
     "execution_count": 8,
     "metadata": {},
     "output_type": "execute_result"
    }
   ],
   "source": [
    "# w=3 인 경우, d = -7\n",
    "M0=np.eye(40)\n",
    "M3=-7*M0\n",
    "\n",
    "for n in range(0, 40, 1):\n",
    "    M3[n,n-1]=-1\n",
    "    M3[n-1,n]=-1\n",
    "\n",
    "M3[0,0]=-8\n",
    "M3[39,39]=-8\n",
    "M3[39,0]=0\n",
    "M3[0,39]=0\n",
    "M3"
   ]
  },
  {
   "cell_type": "code",
   "execution_count": 9,
   "metadata": {},
   "outputs": [
    {
     "data": {
      "text/plain": [
       "array([1., 0., 0., 0., 0., 0., 0., 0., 0., 0., 0., 0., 0., 0., 0., 0., 0.,\n",
       "       0., 0., 0., 0., 0., 0., 0., 0., 0., 0., 0., 0., 0., 0., 0., 0., 0.,\n",
       "       0., 0., 0., 0., 0., 0.])"
      ]
     },
     "execution_count": 9,
     "metadata": {},
     "output_type": "execute_result"
    }
   ],
   "source": [
    "b1=np.zeros(40)\n",
    "b1[0]=1 # C=1 이라고 주어짐.\n",
    "b1"
   ]
  },
  {
   "cell_type": "code",
   "execution_count": 10,
   "metadata": {},
   "outputs": [
    {
     "data": {
      "text/plain": [
       "(array([ 1., -1., -0.,  0., -0., -0.,  0., -0., -0.,  0., -0., -0.,  0.,\n",
       "        -0., -0.,  0., -0., -0.,  0., -0., -0.,  0., -0., -0.,  0., -0.,\n",
       "        -0.,  0., -0., -0.,  0., -0., -0.,  0., -0., -0.,  0., -0., -0.,\n",
       "         0.]),\n",
       " array([-3.00000000e+00, -1.00000000e+00,  2.81069120e-18, -2.81069120e-18,\n",
       "         3.20303335e-31,  6.62734152e-31,  2.16423223e-16, -7.40999495e-32,\n",
       "        -8.36252790e-31,  3.24634834e-16,  1.08211611e-16,  1.81755094e-33,\n",
       "         3.24634834e-16,  2.19233914e-16, -1.08211611e-16, -2.16423223e-16,\n",
       "        -2.19233914e-16,  1.70126564e-30,  1.08211611e-16,  5.55111512e-17,\n",
       "        -5.41058056e-17, -1.11022302e-16,  5.41058056e-17, -5.41058056e-17,\n",
       "        -2.17828568e-16, -1.08211611e-16,  1.09616957e-16,  1.08211611e-16,\n",
       "         5.27004600e-17,  5.34031328e-17,  1.06129030e-30,  2.63502300e-17,\n",
       "         5.48084784e-17,  7.02672800e-19, -5.41058056e-17, -4.05793542e-17,\n",
       "        -1.35264514e-17,  1.40534560e-17,  1.51294237e-17,  4.98458518e-18]),\n",
       " array([-8.00000000e+00, -1.00000000e+00, -2.60343206e-18, -2.01315354e-18,\n",
       "        -2.78707157e-19,  1.89442516e-20,  7.06540351e-21,  4.14254787e-22,\n",
       "        -1.19780207e-22, -6.48429113e-24,  7.24104150e-25,  2.76101503e-25,\n",
       "         8.90329014e-27, -6.35844720e-28,  2.09134690e-28, -4.54272839e-29,\n",
       "         1.49883572e-29,  4.55335456e-30,  5.71268305e-31,  6.68676507e-32,\n",
       "        -5.51900544e-33, -1.53478775e-33, -1.31569701e-34, -6.73580133e-36,\n",
       "        -1.18493719e-36,  4.35407493e-37,  2.96375773e-37, -2.07031053e-38,\n",
       "        -5.15842644e-39, -6.11285954e-41, -9.23643113e-41, -2.06744621e-42,\n",
       "         7.76742925e-43, -6.90668964e-44,  4.66156576e-45,  3.43030720e-45,\n",
       "         3.86998093e-46,  1.55318288e-47, -7.41530073e-48,  3.03858168e-64]))"
      ]
     },
     "execution_count": 10,
     "metadata": {},
     "output_type": "execute_result"
    }
   ],
   "source": [
    "# 위에 제시한 각 w에 대하여\n",
    "a1=np.linalg.solve(np.linalg.inv(M1),b1)\n",
    "a2=np.linalg.solve(np.linalg.inv(M2),b1)\n",
    "a3=np.linalg.solve(np.linalg.inv(M3),b1)\n",
    "\n",
    "a1, a2, a3"
   ]
  },
  {
   "cell_type": "code",
   "execution_count": 12,
   "metadata": {},
   "outputs": [
    {
     "data": {
      "text/plain": [
       "Text(0, 0.5, 'a')"
      ]
     },
     "execution_count": 12,
     "metadata": {},
     "output_type": "execute_result"
    },
    {
     "data": {
      "image/png": "[encoded data removed]",
      "text/plain": [
       "<Figure size 1152x1152 with 3 Axes>"
      ]
     },
     "metadata": {
      "needs_background": "light"
     },
     "output_type": "display_data"
    }
   ],
   "source": [
    "xdata=np.arange(0,40,1)\n",
    "plt.figure(figsize=(16,16))\n",
    "plt.subplot(221)\n",
    "plt.plot(xdata, a1,'-o', color='r')\n",
    "plt.subplot(222)\n",
    "plt.plot(xdata, a2,'-o', color='b')\n",
    "plt.subplot(223)\n",
    "plt.plot(xdata, a3,'-o', color='g')\n",
    "plt.xlabel(\"N\")\n",
    "plt.ylabel(\"a\")"
   ]
  },
  {
   "cell_type": "markdown",
   "metadata": {},
   "source": [
    "한 쪽에서 힘을 가하게 되면, 힘을 가한 반대방향으로 갈 수록 진폭이 점점 줄어들어 0에 가까워짐을 확인할 수 있습니다."
   ]
  },
  {
   "cell_type": "markdown",
   "metadata": {},
   "source": [
    "# 2. 양쪽 끝에서 힘을 가하면 어떻게 되는가?"
   ]
  },
  {
   "cell_type": "markdown",
   "metadata": {},
   "source": [
    "\n",
    "즉, b행렬이 다음과 같은 경우에 대해서 살펴보아라.$$\n",
    "b=\n",
    "\\begin{pmatrix}\n",
    "C \\\\ \n",
    "0 \\\\ \n",
    "0 \\\\ \n",
    "\\cdots \\\\ \n",
    "C \n",
    "\\end{pmatrix}\n",
    "$$\n",
    "\n",
    "$m=1$, $k=1$, $C=1$, $N=40$으로 고정하세요.\n",
    "\n",
    "$w$ (즉, d)를 바꾸어가면서 $a_i$를 구하세요.\n",
    "\n",
    "이를 그래프로 표현하고 의미를 설명하세요."
   ]
  },
  {
   "cell_type": "code",
   "execution_count": 14,
   "metadata": {},
   "outputs": [
    {
     "data": {
      "text/plain": [
       "array([1., 0., 0., 0., 0., 0., 0., 0., 0., 0., 0., 0., 0., 0., 0., 0., 0.,\n",
       "       0., 0., 0., 0., 0., 0., 0., 0., 0., 0., 0., 0., 0., 0., 0., 0., 0.,\n",
       "       0., 0., 0., 0., 0., 1.])"
      ]
     },
     "execution_count": 14,
     "metadata": {},
     "output_type": "execute_result"
    }
   ],
   "source": [
    "# 1, 에서 구한 M1, M2, M3 를 이용해보자. w=1, 2, 3\n",
    "b2=np.zeros(40)\n",
    "b2[0]=1\n",
    "b2[39]=1\n",
    "b2"
   ]
  },
  {
   "cell_type": "code",
   "execution_count": 15,
   "metadata": {},
   "outputs": [
    {
     "data": {
      "text/plain": [
       "(array([ 1., -1., -0.,  0., -0., -0.,  0., -0., -0.,  0., -0., -0.,  0.,\n",
       "        -0., -0.,  0., -0., -0.,  0., -0., -0.,  0., -0., -0.,  0., -0.,\n",
       "        -0.,  0., -0., -0.,  0., -0., -0.,  0., -0., -0.,  0., -0., -1.,\n",
       "         1.]),\n",
       " array([-3.00000000e+00, -1.00000000e+00, -5.73615229e-18,  1.57313280e-17,\n",
       "         5.61219694e-17,  6.48635734e-17,  2.91226413e-16,  6.07953858e-17,\n",
       "         6.02472217e-17,  4.41472906e-16,  2.53210823e-16,  1.16865582e-17,\n",
       "         2.31759056e-16,  1.86171833e-16, -6.83004851e-17, -3.02337520e-16,\n",
       "        -3.34690904e-16, -5.55111512e-18,  1.02953821e-16, -2.91095061e-17,\n",
       "        -2.22044605e-16, -3.45069318e-16, -4.08799978e-16, -6.83796454e-16,\n",
       "        -4.40507845e-16,  2.48843092e-17,  5.13992141e-18, -3.33066907e-17,\n",
       "         2.95053836e-16,  2.18079523e-16, -3.35988547e-17,  1.69798816e-16,\n",
       "         2.40548322e-16,  6.83214169e-17, -3.28020439e-17, -5.55111512e-17,\n",
       "        -7.13714802e-17, -3.99680289e-16, -1.00000000e+00, -3.00000000e+00]),\n",
       " array([-8.00000000e+00, -1.00000000e+00, -2.60343206e-18, -2.01315354e-18,\n",
       "        -2.78707157e-19,  1.89442516e-20,  7.06540351e-21,  4.14254787e-22,\n",
       "        -1.19780207e-22, -6.48429113e-24,  7.24104150e-25,  2.76101503e-25,\n",
       "         8.90329014e-27, -6.35844720e-28,  2.09134690e-28, -4.54272774e-29,\n",
       "         1.49883869e-29,  4.55328048e-30,  5.72469393e-31,  8.09522585e-32,\n",
       "         2.82485675e-32, -2.25988540e-31, -4.50297892e-30, -7.23163328e-30,\n",
       "         5.78530663e-29, -4.62824530e-28,  3.70259624e-27,  7.37768066e-26,\n",
       "         1.18483080e-25, -9.47864637e-25,  7.58291710e-24,  1.51094900e-22,\n",
       "         2.42653347e-22, -1.94122678e-21,  1.55298142e-20, -1.24238492e-19,\n",
       "        -2.47554703e-18, -8.51591525e-18, -1.00000000e+00, -8.00000000e+00]))"
      ]
     },
     "execution_count": 15,
     "metadata": {},
     "output_type": "execute_result"
    }
   ],
   "source": [
    "a11=np.linalg.solve(np.linalg.inv(M1),b2)\n",
    "a22=np.linalg.solve(np.linalg.inv(M2),b2)\n",
    "a33=np.linalg.solve(np.linalg.inv(M3),b2)\n",
    "\n",
    "a11, a22, a33"
   ]
  },
  {
   "cell_type": "code",
   "execution_count": 16,
   "metadata": {},
   "outputs": [
    {
     "data": {
      "text/plain": [
       "Text(0, 0.5, 'a')"
      ]
     },
     "execution_count": 16,
     "metadata": {},
     "output_type": "execute_result"
    },
    {
     "data": {
      "image/png": "[encoded data removed]",
      "text/plain": [
       "<Figure size 1152x1152 with 3 Axes>"
      ]
     },
     "metadata": {
      "needs_background": "light"
     },
     "output_type": "display_data"
    }
   ],
   "source": [
    "xdata=np.arange(0,40,1)\n",
    "plt.figure(figsize=(16,16))\n",
    "plt.subplot(221)\n",
    "plt.plot(xdata, a11,'-o', color='r')\n",
    "plt.subplot(222)\n",
    "plt.plot(xdata, a22,'-o', color='b')\n",
    "plt.subplot(223)\n",
    "plt.plot(xdata, a33,'-o', color='g')\n",
    "plt.xlabel(\"N\")\n",
    "plt.ylabel(\"a\")"
   ]
  },
  {
   "cell_type": "markdown",
   "metadata": {},
   "source": [
    "양 쪽에서 힘을 가하면, 1에서와 같은 개념으로 힘을 가한 반대방향으로 갈 수록 진폭이 감소하다가 0이 됨을 확인할 수 있으며, 이 상황에선 양쪽에서 힘을 가했기 때문에 가운데 지점을 향할수록 0으로 수렴함을 확인할 수 있습니다."
   ]
  }
 ],
 "metadata": {
  "kernelspec": {
   "display_name": "Python 3",
   "language": "python",
   "name": "python3"
  },
  "language_info": {
   "codemirror_mode": {
    "name": "ipython",
    "version": 3
   },
   "file_extension": ".py",
   "mimetype": "text/x-python",
   "name": "python",
   "nbconvert_exporter": "python",
   "pygments_lexer": "ipython3",
   "version": "3.8.5"
  }
 },
 "nbformat": 4,
 "nbformat_minor": 4
}
