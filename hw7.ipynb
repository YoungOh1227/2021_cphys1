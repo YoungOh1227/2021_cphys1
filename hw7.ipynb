{
 "cells": [
  {
   "cell_type": "markdown",
   "metadata": {},
   "source": [
    "# Pauli Matrices \n",
    "\n",
    "파울리 행렬의 아이겐밸류와 아이겐벡터를 구하시오.\n",
    "\n",
    "$$ s_x = \\begin{pmatrix} 0 & 1 \\\\ 1 & 0 \\end{pmatrix}, \\quad\n",
    "s_y = \\begin{pmatrix} 0 & -j \\\\ j & 0 \\end{pmatrix}, \\quad\n",
    "s_z  = \\begin{pmatrix} 1 & 0 \\\\ 0 & -1 \\end{pmatrix}. $$"
   ]
  },
  {
   "cell_type": "code",
   "execution_count": 28,
   "metadata": {},
   "outputs": [],
   "source": [
    "import numpy as np\n",
    "\n",
    "sx=np.array([[0,1],[1,0]])\n",
    "sy=np.array([[0,-1j],[1j,0]])\n",
    "sz=np.array([[1,0],[0,-1]])"
   ]
  },
  {
   "cell_type": "code",
   "execution_count": 31,
   "metadata": {},
   "outputs": [
    {
     "data": {
      "text/plain": [
       "(array([ 1., -1.]),\n",
       " array([[ 0.70710678, -0.70710678],\n",
       "        [ 0.70710678,  0.70710678]]))"
      ]
     },
     "execution_count": 31,
     "metadata": {},
     "output_type": "execute_result"
    }
   ],
   "source": [
    "np.linalg.eig(sx)"
   ]
  },
  {
   "cell_type": "code",
   "execution_count": 33,
   "metadata": {},
   "outputs": [
    {
     "data": {
      "text/plain": [
       "(array([ 1.+0.j, -1.+0.j]),\n",
       " array([[-0.        -0.70710678j,  0.70710678+0.j        ],\n",
       "        [ 0.70710678+0.j        ,  0.        -0.70710678j]]))"
      ]
     },
     "execution_count": 33,
     "metadata": {},
     "output_type": "execute_result"
    }
   ],
   "source": [
    "np.linalg.eig(sy)"
   ]
  },
  {
   "cell_type": "code",
   "execution_count": 34,
   "metadata": {},
   "outputs": [
    {
     "data": {
      "text/plain": [
       "(array([ 1., -1.]),\n",
       " array([[1., 0.],\n",
       "        [0., 1.]]))"
      ]
     },
     "execution_count": 34,
     "metadata": {},
     "output_type": "execute_result"
    }
   ],
   "source": [
    "np.linalg.eig(sz)"
   ]
  },
  {
   "cell_type": "markdown",
   "metadata": {},
   "source": [
    "# Normal Modes\n",
    "(고전역학 by Thornton & Marion 챕터 12.2 및 예제 12.3 참조) 용수철 상수가 $k$인 용수철에 연결된 두 개의 물체의 노말 모드를 구해보자. 두 개의 물체의 운동방정식은 다음으로 주어진다.\n",
    "$$ -m w^2 x_1 = -2kx_1 +k x_2, \\\\\n",
    "-m w^2 x_2 = k x_1 - 2 k x_2.$$\n",
    "eigenfrequencies $w$는 다음의 행렬식을 통해 구할 수 있다.\n",
    "$$ \\frac{k}{m w^2} \\begin{pmatrix} 2 & -1 \\\\ -1 & 2 \\end{pmatrix} \n",
    "\\begin{pmatrix} x_1 \\\\ x_2 \\end{pmatrix}=\n",
    "\\lambda \\begin{pmatrix} x_1 \\\\ x_2 \\end{pmatrix} $$"
   ]
  },
  {
   "cell_type": "markdown",
   "metadata": {},
   "source": [
    "위의 행렬의 고유값을 구하자. "
   ]
  },
  {
   "cell_type": "code",
   "execution_count": 21,
   "metadata": {},
   "outputs": [
    {
     "data": {
      "text/plain": [
       "(array([3., 1.]),\n",
       " array([[ 0.70710678,  0.70710678],\n",
       "        [-0.70710678,  0.70710678]]))"
      ]
     },
     "execution_count": 21,
     "metadata": {},
     "output_type": "execute_result"
    }
   ],
   "source": [
    "m=np.array([[2,-1],[-1,2]])\n",
    "np.linalg.eig(m)"
   ]
  },
  {
   "cell_type": "markdown",
   "metadata": {},
   "source": [
    "따라서 eigenfrequencies는$$ w_1 = \\sqrt{\\frac{k}{m}}, \\quad w_2 = \\sqrt{\\frac{3k}{m}}. $$\n",
    "\n",
    "위에서 구한 아이겐벡터와 아이겐밸류의 의미를 설명하여라."
   ]
  },
  {
   "cell_type": "markdown",
   "metadata": {},
   "source": [
    "(설명)\n",
    "\n",
    "아이겐벡터는 그 선형 변환이 일어난 후에도 방향이 변하지 않는, 영벡터가 아닌 벡터이며 아이겐벡터의 길이가 변하는 배수를 선형 변환의 아이겐벡터에 대응하는 값을 아이건밸류라고 한다.\n",
    "\n",
    "여기서 아이겐밸류는 결국   𝑤2  임을 알 수 있다. 𝑤1  일때  $ w_1 $ 일때 $\\ m/k*w_1^2=1$, $ w_2 $ 일때 $\\ m/k*w_2^2=3$.\n",
    "\n",
    "또한 아이겐벡터는 선형 변환 후에도 방향이 변하지 않는걸 알 수 있으며, 아이겐벡터는 아이겐프리컨시를 가진 동작에 대하여 질량에 따른 진폭의 정보를 제공한다."
   ]
  }
 ],
 "metadata": {
  "kernelspec": {
   "display_name": "Python 3",
   "language": "python",
   "name": "python3"
  },
  "language_info": {
   "codemirror_mode": {
    "name": "ipython",
    "version": 3
   },
   "file_extension": ".py",
   "mimetype": "text/x-python",
   "name": "python",
   "nbconvert_exporter": "python",
   "pygments_lexer": "ipython3",
   "version": "3.8.5"
  }
 },
 "nbformat": 4,
 "nbformat_minor": 4
}
